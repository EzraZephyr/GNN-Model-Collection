{
 "cells": [
  {
   "cell_type": "code",
   "id": "initial_id",
   "metadata": {
    "collapsed": true,
    "ExecuteTime": {
     "end_time": "2024-10-15T12:30:35.836691Z",
     "start_time": "2024-10-15T12:30:27.374051Z"
    }
   },
   "source": [
    "import torch\n",
    "import torch.nn.functional as F\n",
    "from torch import nn, optim\n",
    "from torch_geometric.datasets import Planetoid\n",
    "from torch_geometric.nn import GATConv"
   ],
   "outputs": [],
   "execution_count": 2
  },
  {
   "metadata": {
    "ExecuteTime": {
     "end_time": "2024-10-15T12:30:35.883690Z",
     "start_time": "2024-10-15T12:30:35.836691Z"
    }
   },
   "cell_type": "code",
   "source": [
    "dataset = Planetoid(root='/tmp/Cora', name='Cora')\n",
    "data = dataset[0]"
   ],
   "id": "9e717d6cb1ee3d31",
   "outputs": [],
   "execution_count": 3
  },
  {
   "metadata": {
    "ExecuteTime": {
     "end_time": "2024-10-15T12:30:52.374589Z",
     "start_time": "2024-10-15T12:30:52.358622Z"
    }
   },
   "cell_type": "code",
   "source": [
    "class GAT(nn.Module):\n",
    "    def __init__(self):\n",
    "        super(GAT, self).__init__()\n",
    "        self.gat1 = GATConv(dataset.num_features, 16, heads=4, dropout=0.6)\n",
    "        # 使用四个注意力头 首先将输入映射为16\n",
    "        \n",
    "        self.gat2 = GATConv(16*4, 8, heads=4, dropout=0.6)\n",
    "        # 将新的输入维度和注意力头进行相乘 再进行一次维度映射\n",
    "        \n",
    "        self.gat3 = GATConv(8*4, dataset.num_classes, heads=1, dropout=0.6)\n",
    "        # 最后将维度映射成为输出类别数量\n",
    "    \n",
    "    def forward(self, data):\n",
    "        x, edge_index = data.x, data.edge_index\n",
    "        \n",
    "        x = F.elu(self.gat1(x, edge_index))\n",
    "        x = F.elu(self.gat2(x, edge_index))\n",
    "        x = self.gat3(x, edge_index)\n",
    "        # ELU比LeakyReLU更适合 因为它的负数部分输出趋于平稳 输出均值更接近0\n",
    "        \n",
    "        return F.log_softmax(x,dim=1)"
   ],
   "id": "1bcbf754d811e0d8",
   "outputs": [],
   "execution_count": 7
  },
  {
   "metadata": {
    "ExecuteTime": {
     "end_time": "2024-10-15T12:31:09.882420Z",
     "start_time": "2024-10-15T12:31:05.377960Z"
    }
   },
   "cell_type": "code",
   "source": [
    "model = GAT()\n",
    "optimizer = optim.Adam(model.parameters(), lr=0.01, weight_decay=5e-4)\n",
    "scheduler = optim.lr_scheduler.StepLR(optimizer, step_size=20, gamma=0.3)\n",
    "\n",
    "best_test_acc = 0.0\n",
    "best_epoch = 0\n",
    "model.train()\n",
    "for epoch in range(0, 101):\n",
    "\n",
    "    optimizer.zero_grad()\n",
    "    out = model(data)\n",
    "    loss = F.nll_loss(out[data.train_mask], data.y[data.train_mask])\n",
    "    loss.backward()\n",
    "    optimizer.step()\n",
    "    scheduler.step()\n",
    "    # 训练模型\n",
    "    \n",
    "    model.eval()\n",
    "    with torch.no_grad():\n",
    "\n",
    "        _, pred = model(data).max(dim=1)\n",
    "        correct = pred[data.test_mask].eq(data.y[data.test_mask]).sum().item()\n",
    "        test_acc = correct / data.test_mask.sum().item()\n",
    "    # 评估模型\n",
    "    \n",
    "    if test_acc > best_test_acc:\n",
    "        best_test_acc = test_acc\n",
    "        best_epoch = epoch\n",
    "        torch.save(model.state_dict(), 'best_model.pth')\n",
    "        print(f'Model Save: Epoch {epoch+1}, Loss: {loss:.4f}, Accuracy: {test_acc*100:.2f}%')\n",
    "    # 记录准确率最高的模型\n",
    "    \n",
    "    model.train()\n",
    "    # 重新开始训练"
   ],
   "id": "a3770d4ef1307c6b",
   "outputs": [
    {
     "name": "stdout",
     "output_type": "stream",
     "text": [
      "Model Save: Epoch 1, Loss: 1.9616, Accuracy: 64.40%\n",
      "Model Save: Epoch 2, Loss: 1.6264, Accuracy: 75.30%\n",
      "Model Save: Epoch 4, Loss: 1.0617, Accuracy: 75.80%\n",
      "Model Save: Epoch 5, Loss: 0.8893, Accuracy: 77.90%\n",
      "Model Save: Epoch 6, Loss: 0.7824, Accuracy: 79.10%\n",
      "Model Save: Epoch 7, Loss: 0.6042, Accuracy: 80.20%\n",
      "Model Save: Epoch 8, Loss: 0.5558, Accuracy: 81.80%\n"
     ]
    }
   ],
   "execution_count": 10
  }
 ],
 "metadata": {
  "kernelspec": {
   "display_name": "Python 3",
   "language": "python",
   "name": "python3"
  },
  "language_info": {
   "codemirror_mode": {
    "name": "ipython",
    "version": 2
   },
   "file_extension": ".py",
   "mimetype": "text/x-python",
   "name": "python",
   "nbconvert_exporter": "python",
   "pygments_lexer": "ipython2",
   "version": "2.7.6"
  }
 },
 "nbformat": 4,
 "nbformat_minor": 5
}
