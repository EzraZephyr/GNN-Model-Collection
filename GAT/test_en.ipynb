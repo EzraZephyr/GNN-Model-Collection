{
 "cells": [
  {
   "cell_type": "code",
   "id": "initial_id",
   "metadata": {
    "collapsed": true,
    "ExecuteTime": {
     "end_time": "2024-10-15T13:01:25.222104Z",
     "start_time": "2024-10-15T13:01:25.212862Z"
    }
   },
   "source": [
    "import torch\n",
    "import torch.nn.functional as F\n",
    "from torch import nn, optim\n",
    "from torch_geometric.datasets import Planetoid\n",
    "from torch_geometric.nn import GATConv"
   ],
   "outputs": [],
   "execution_count": 26
  },
  {
   "metadata": {
    "ExecuteTime": {
     "end_time": "2024-10-15T13:01:25.372285Z",
     "start_time": "2024-10-15T13:01:25.356634Z"
    }
   },
   "cell_type": "code",
   "source": [
    "dataset = Planetoid(root='/tmp/Cora', name='Cora')\n",
    "data = dataset[0]"
   ],
   "id": "e7651e36ba8ffe84",
   "outputs": [],
   "execution_count": 27
  },
  {
   "metadata": {
    "ExecuteTime": {
     "end_time": "2024-10-15T13:01:25.532608Z",
     "start_time": "2024-10-15T13:01:25.511712Z"
    }
   },
   "cell_type": "code",
   "source": [
    "class GAT(nn.Module):\n",
    "    def __init__(self):\n",
    "        super(GAT, self).__init__()\n",
    "        self.gat1 = GATConv(dataset.num_features, 16, heads=4, dropout=0.6)\n",
    "        # Using four attention heads to first map the input to 16 dimensions\n",
    "\n",
    "        self.gat2 = GATConv(16*4, 8, heads=4, dropout=0.6)\n",
    "        # Multiply the new input dimension with the number of attention heads, then perform another dimensional mapping\n",
    "\n",
    "        self.gat3 = GATConv(8*4, dataset.num_classes, heads=1, dropout=0.6)\n",
    "        # Finally, map the dimension to match the number of output classes\n",
    "\n",
    "    def forward(self, data):\n",
    "        x, edge_index = data.x, data.edge_index\n",
    "\n",
    "        x = F.elu(self.gat1(x, edge_index))\n",
    "        x = F.elu(self.gat2(x, edge_index))\n",
    "        x = self.gat3(x, edge_index)\n",
    "        # ELU is preferred over LeakyReLU because its negative part stabilizes better, \n",
    "        # and its output mean is closer to 0\n",
    "\n",
    "        return F.log_softmax(x, dim=1)"
   ],
   "id": "c77273caaaf03736",
   "outputs": [],
   "execution_count": 28
  },
  {
   "metadata": {
    "ExecuteTime": {
     "end_time": "2024-10-15T13:01:47.080712Z",
     "start_time": "2024-10-15T13:01:43.342218Z"
    }
   },
   "cell_type": "code",
   "source": [
    "model = GAT()\n",
    "optimizer = optim.Adam(model.parameters(), lr=0.01, weight_decay=5e-4)\n",
    "scheduler = optim.lr_scheduler.StepLR(optimizer, step_size=20, gamma=0.3)\n",
    "\n",
    "best_test_acc = 0.0\n",
    "best_epoch = 0\n",
    "model.train()\n",
    "for epoch in range(0, 101):\n",
    "\n",
    "    optimizer.zero_grad()\n",
    "    out = model(data)\n",
    "    loss = F.nll_loss(out[data.train_mask], data.y[data.train_mask])\n",
    "    loss.backward()\n",
    "    optimizer.step()\n",
    "    scheduler.step()\n",
    "    # Train the model\n",
    "\n",
    "    model.eval()\n",
    "    with torch.no_grad():\n",
    "\n",
    "        _, pred = model(data).max(dim=1)\n",
    "        correct = pred[data.test_mask].eq(data.y[data.test_mask]).sum().item()\n",
    "        test_acc = correct / data.test_mask.sum().item()\n",
    "    # Evaluate the model\n",
    "\n",
    "    if test_acc > best_test_acc:\n",
    "        best_test_acc = test_acc\n",
    "        best_epoch = epoch\n",
    "        torch.save(model.state_dict(), 'best_model.pth')\n",
    "        print(f'Model Save: Epoch {epoch+1}, Loss: {loss:.4f}, Accuracy: {test_acc*100:.2f}%')\n",
    "    # Record the model with the highest accuracy\n",
    "\n",
    "    model.train()\n",
    "    # Resume training"
   ],
   "id": "719a47b3d33613a8",
   "outputs": [
    {
     "name": "stdout",
     "output_type": "stream",
     "text": [
      "Model Save: Epoch 1, Loss: 1.9733, Accuracy: 44.70%\n",
      "Model Save: Epoch 2, Loss: 1.5667, Accuracy: 77.00%\n",
      "Model Save: Epoch 3, Loss: 1.3158, Accuracy: 80.30%\n",
      "Model Save: Epoch 4, Loss: 1.0460, Accuracy: 80.90%\n"
     ]
    }
   ],
   "execution_count": 32
  }
 ],
 "metadata": {
  "kernelspec": {
   "display_name": "Python 3",
   "language": "python",
   "name": "python3"
  },
  "language_info": {
   "codemirror_mode": {
    "name": "ipython",
    "version": 2
   },
   "file_extension": ".py",
   "mimetype": "text/x-python",
   "name": "python",
   "nbconvert_exporter": "python",
   "pygments_lexer": "ipython2",
   "version": "2.7.6"
  }
 },
 "nbformat": 4,
 "nbformat_minor": 5
}
